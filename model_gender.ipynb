{
 "cells": [
  {
   "cell_type": "code",
   "execution_count": 1,
   "metadata": {},
   "outputs": [],
   "source": [
    "import os\n",
    "import cv2"
   ]
  },
  {
   "cell_type": "code",
   "execution_count": 2,
   "metadata": {},
   "outputs": [
    {
     "name": "stdout",
     "output_type": "stream",
     "text": [
      "23699 23699\n"
     ]
    }
   ],
   "source": [
    "UTKFacePath = \"\\UTKFace\"\n",
    "imageList = []\n",
    "genderList = []\n",
    "for image in os.listdir(UTKFacePath):\n",
    "    data = image.split(\"_\")\n",
    "    img = cv2.imread(UTKFacePath+\"\\\\\"+image)\n",
    "    img = cv2.resize(img,(65,65))\n",
    "    img = cv2.cvtColor(img,cv2.COLOR_RGB2GRAY)\n",
    "    imageList.append(img.flatten())\n",
    "    if int(data[0]) <= 12 :\n",
    "        genderList.append(0)\n",
    "    elif int(data[1]) == 0 :\n",
    "        genderList.append(1)\n",
    "    elif int(data[1]) == 1 :\n",
    "        genderList.append(2)\n",
    "    else : print(\"Empty\")\n",
    "print(len(imageList),len(genderList))"
   ]
  },
  {
   "attachments": {},
   "cell_type": "markdown",
   "metadata": {},
   "source": [
    "# --------------------------------"
   ]
  },
  {
   "cell_type": "code",
   "execution_count": 3,
   "metadata": {},
   "outputs": [
    {
     "name": "stdout",
     "output_type": "stream",
     "text": [
      "52474 52474\n"
     ]
    }
   ],
   "source": [
    "face_age_male = \"/Validation/male\"\n",
    "for image in os.listdir(face_age_male):\n",
    "    img = cv2.imread(face_age_male+\"/\"+image)\n",
    "    img = cv2.resize(img,(100,100))\n",
    "    img = cv2.cvtColor(img,cv2.COLOR_RGB2GRAY)\n",
    "    imageList.append(img.flatten())\n",
    "    genderList.append(1)\n",
    "print(len(imageList),len(genderList))"
   ]
  },
  {
   "attachments": {},
   "cell_type": "markdown",
   "metadata": {},
   "source": [
    "# ------------------------------------------------------"
   ]
  },
  {
   "cell_type": "code",
   "execution_count": 4,
   "metadata": {},
   "outputs": [
    {
     "name": "stdout",
     "output_type": "stream",
     "text": [
      "82329 82329\n"
     ]
    }
   ],
   "source": [
    "face_age_female = \"/Validation/female\"\n",
    "for image in os.listdir(face_age_female):\n",
    "    img = cv2.imread(face_age_female+\"/\"+image)\n",
    "    img = cv2.resize(img,(100,100))\n",
    "    img = cv2.cvtColor(img,cv2.COLOR_RGB2GRAY)\n",
    "    imageList.append(img.flatten())\n",
    "    genderList.append(2)\n",
    "print(len(imageList),len(genderList))"
   ]
  },
  {
   "cell_type": "code",
   "execution_count": null,
   "metadata": {},
   "outputs": [],
   "source": [
    "autistic_Path = \"non_autistic\"\n",
    "for image in os.listdir(autistic_Path):\n",
    "    img = cv2.imread(autistic_Path+\"/\"+image)\n",
    "    img = cv2.resize(img,(100,100))\n",
    "    img = cv2.cvtColor(img,cv2.COLOR_RGB2GRAY)\n",
    "    imageList.append(img.flatten())\n",
    "    genderList.append(0)\n",
    "print(len(imageList),len(genderList))"
   ]
  },
  {
   "cell_type": "code",
   "execution_count": 9,
   "metadata": {},
   "outputs": [
    {
     "name": "stdout",
     "output_type": "stream",
     "text": [
      "25197 25197\n"
     ]
    }
   ],
   "source": [
    "face_age_kids = \"/age_prediction/train\"\n",
    "face_cascade = cv2.CascadeClassifier(cv2.data.haarcascades+'haarcascade_frontalface_default.xml')\n",
    "for file in os.listdir(face_age_kids):\n",
    "    if int(file) <= 12 :\n",
    "        for image in os.listdir(face_age_kids+'/'+file):\n",
    "            img = cv2.imread(face_age_kids+\"/\"+file+\"/\"+image)\n",
    "            img = cv2.cvtColor(img,cv2.COLOR_RGB2GRAY)\n",
    "            img = cv2.resize(img,(65,65))\n",
    "            imageList.append(img.flatten())\n",
    "            genderList.append(0)\n",
    "print(len(imageList),len(genderList))"
   ]
  },
  {
   "cell_type": "code",
   "execution_count": 10,
   "metadata": {},
   "outputs": [
    {
     "name": "stdout",
     "output_type": "stream",
     "text": [
      "25642 25642\n"
     ]
    }
   ],
   "source": [
    "autistic_Path = \"/consolidated/non_autistic\"\n",
    "face_cascade = cv2.CascadeClassifier(cv2.data.haarcascades+'haarcascade_frontalface_default.xml')\n",
    "\n",
    "for image in os.listdir(autistic_Path):\n",
    "    img = cv2.imread(autistic_Path+\"/\"+image)\n",
    "    img = cv2.cvtColor(img,cv2.COLOR_RGB2GRAY)\n",
    "    # faces = face_cascade.detectMultiScale(img, 1.3, 5)\n",
    "    # if image == '131720.jpg': print(img.shape)\n",
    "    # for (x, y, w, h) in faces:\n",
    "        # try:\n",
    "    # img = img[y:y+h,x:x+w]\n",
    "    img = cv2.resize(img,(65,65))\n",
    "    imageList.append(img.flatten())\n",
    "    genderList.append(0)\n",
    "        # except: None\n",
    "        # finally:None\n",
    "print(len(imageList),len(genderList))"
   ]
  },
  {
   "cell_type": "code",
   "execution_count": 3,
   "metadata": {},
   "outputs": [
    {
     "data": {
      "text/plain": [
       "(array([ 3404.,     0.,     0.,     0.,     0., 10784.,     0.,     0.,\n",
       "            0.,  9511.]),\n",
       " array([0. , 0.2, 0.4, 0.6, 0.8, 1. , 1.2, 1.4, 1.6, 1.8, 2. ]),\n",
       " <BarContainer object of 10 artists>)"
      ]
     },
     "execution_count": 3,
     "metadata": {},
     "output_type": "execute_result"
    },
    {
     "data": {
      "image/png": "[encoded data removed]",
      "text/plain": [
       "<Figure size 640x480 with 1 Axes>"
      ]
     },
     "metadata": {},
     "output_type": "display_data"
    }
   ],
   "source": [
    "import matplotlib.pyplot as plt\n",
    "\n",
    "plt.hist(genderList)"
   ]
  },
  {
   "cell_type": "code",
   "execution_count": 8,
   "metadata": {},
   "outputs": [
    {
     "name": "stdout",
     "output_type": "stream",
     "text": [
      "(64995, 50)\n"
     ]
    }
   ],
   "source": [
    "import numpy as np\n",
    "from sklearn.decomposition import PCA\n",
    "\n",
    "\n",
    "# Load the image data as a 4D array of shape (n_samples, height, width, channels)\n",
    "X =np.array(imageList)\n",
    "\n",
    "# Flatten the image data into a 2D array of shape (n_samples, n_features)\n",
    "X = np.reshape(X, (X.shape[0], -1))\n",
    "\n",
    "\n",
    "# Apply PCA to reduce the dimensionality of the data\n",
    "pca = PCA(n_components=50)\n",
    "X_pca = pca.fit_transform(X)\n",
    "\n",
    "print(X_pca.shape)"
   ]
  },
  {
   "cell_type": "code",
   "execution_count": 4,
   "metadata": {},
   "outputs": [
    {
     "name": "stderr",
     "output_type": "stream",
     "text": [
      "Intel(R) Extension for Scikit-learn* enabled (https://github.com/intel/scikit-learn-intelex)\n"
     ]
    },
    {
     "name": "stdout",
     "output_type": "stream",
     "text": [
      "Accuracy: 0.8751054852320675\n"
     ]
    }
   ],
   "source": [
    "from sklearn.model_selection import train_test_split\n",
    "from sklearnex import patch_sklearn\n",
    "from sklearnex.svm import SVC\n",
    "\n",
    "# Split the dataset into training and testing sets\n",
    "X_train, X_test, y_train, y_test = train_test_split(imageList, genderList, test_size=0.3, random_state=42)\n",
    "# X_train = imageList\n",
    "# y_train = genderList\n",
    "\n",
    "# Enable Intel optimizations for scikit-learn\n",
    "patch_sklearn()\n",
    "\n",
    "# Create an instance of IntSVC\n",
    "clf = SVC(kernel='rbf', C=1.0, gamma='scale')\n",
    "\n",
    "# Fit the model on the training data\n",
    "clf.fit(X_train, y_train)\n",
    "\n",
    "# Make predictions on the testing data\n",
    "y_pred = clf.predict(X_test)\n",
    "\n",
    "# Evaluate the model performance\n",
    "score = clf.score(X_test, y_test)\n",
    "print(f\"Accuracy: {score}\")"
   ]
  },
  {
   "cell_type": "code",
   "execution_count": 5,
   "metadata": {},
   "outputs": [],
   "source": [
    "import pickle\n",
    "\n",
    "with open('model_svc.pkl', 'wb') as f:\n",
    "    pickle.dump(clf, f)"
   ]
  },
  {
   "cell_type": "code",
   "execution_count": 88,
   "metadata": {},
   "outputs": [
    {
     "name": "stdout",
     "output_type": "stream",
     "text": [
      "[[ 1258   245   366]\n",
      " [   44 10934   905]\n",
      " [  102  1317 10416]]\n"
     ]
    }
   ],
   "source": [
    "import seaborn as sns\n",
    "from sklearn.metrics import confusion_matrix\n",
    "import matplotlib.pyplot as plt\n",
    "\n",
    "\n",
    "cm = confusion_matrix(y_test, y_pred)\n",
    "# plt.figure(figsize=(20,20))\n",
    "# sns.heatmap(cm, annot=True, cmap=\"Blues\")\n",
    "# plt.title(\"Confusion Matrix\")\n",
    "# plt.xlabel(\"Predicted Labels\")\n",
    "# plt.ylabel(\"True Labels\")\n",
    "# plt.show()\n",
    "print(cm)"
   ]
  },
  {
   "cell_type": "code",
   "execution_count": 78,
   "metadata": {},
   "outputs": [],
   "source": [
    "import cv2\n",
    "import matplotlib.pyplot as plt\n",
    "\n",
    "imagePath = \"Images/8.jpg\"\n",
    "# imagePath = \"C:\\\\Users\\\\ayoub\\\\Desktop\\\\age_prediction\\\\train\\\\090\\\\488.jpg\"\n",
    "face_cascade = cv2.CascadeClassifier(cv2.data.haarcascades+'haarcascade_frontalface_default.xml')\n",
    "img = cv2.imread(imagePath)\n",
    "gray = cv2.cvtColor(img, cv2.COLOR_BGR2GRAY)\n",
    "faces = face_cascade.detectMultiScale(gray, 1.3, 5)\n",
    "for (x, y, w, h) in faces:\n",
    "    face = img[y:y+h,x:x+w]\n",
    "    face = cv2.resize(face,(40,40))\n",
    "    face = cv2.cvtColor(face,cv2.COLOR_RGB2GRAY)\n",
    "    face = face.flatten()\n",
    "    result = clf.predict([face])\n",
    "    if result == 1 : result = 'Male'\n",
    "    elif result == 2 : result = 'Female'\n",
    "    else :result = 'Kid'\n",
    "    cv2.rectangle(img, (x, y), (x+w, y+h), (0, 255, 0), 2)\n",
    "    font = cv2.FONT_HERSHEY_SIMPLEX\n",
    "    fontScale = 1\n",
    "    org = (x, y-30)\n",
    "    color = (0, 255, 0)\n",
    "    thickness = 1\n",
    "    cv2.putText(img, str(result), org, font, fontScale, color, thickness)\n",
    "cv2.imshow('Image',img)\n",
    "cv2.waitKey(0)\n",
    "cv2.destroyAllWindows()"
   ]
  }
 ],
 "metadata": {
  "kernelspec": {
   "display_name": "Python 3",
   "language": "python",
   "name": "python3"
  },
  "language_info": {
   "codemirror_mode": {
    "name": "ipython",
    "version": 3
   },
   "file_extension": ".py",
   "mimetype": "text/x-python",
   "name": "python",
   "nbconvert_exporter": "python",
   "pygments_lexer": "ipython3",
   "version": "3.8.1"
  },
  "orig_nbformat": 4
 },
 "nbformat": 4,
 "nbformat_minor": 2
}
